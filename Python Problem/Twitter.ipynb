{
 "cells": [
  {
   "cell_type": "code",
   "execution_count": 44,
   "metadata": {},
   "outputs": [],
   "source": [
    "try:\n",
    "    import json\n",
    "except ImportError:\n",
    "    import simplejson as json\n",
    "\n",
    "# Import the tweepy library\n",
    "import tweepy #https://github.com/tweepy/tweepy\n",
    "import pandas as pd"
   ]
  },
  {
   "cell_type": "code",
   "execution_count": 45,
   "metadata": {},
   "outputs": [],
   "source": [
    "access_key = '1114729926220029952-iRvFI2bxJLMhus1qIbNYRv4G95T69H'\n",
    "access_secret = 'kHV9lIIQSLB7fyoxU2ac4DQ58QQucjzMmkCRQQjG0EXPq'\n",
    "consumer_key = 'SpGKLR54vFkXttiAEU7hfXVi2'\n",
    "consumer_secret = 'rmevPzZofNnwdELz0IOl5XZ25MVOhqbofMaJum98YxIrE9jpws'"
   ]
  },
  {
   "cell_type": "code",
   "execution_count": 49,
   "metadata": {},
   "outputs": [],
   "source": [
    "def get_all_tweets(screen_name):\n",
    "\t#Twitter only allows access to a users most recent 3240 tweets with this method\n",
    "\t\n",
    "\t#authorize twitter, initialize tweepy\n",
    "\tauth = tweepy.OAuthHandler(consumer_key, consumer_secret)\n",
    "\tauth.set_access_token(access_key, access_secret)\n",
    "\tapi = tweepy.API(auth)\n",
    "\t\n",
    "\t#initialize a list to hold all the tweepy Tweets\n",
    "\talltweets = []\t\n",
    "\ttweets = []\n",
    "\t#make initial request for most recent tweets (200 is the maximum allowed count)\n",
    "\tnew_tweets = api.user_timeline(screen_name = screen_name,count= 3200)#,include_rts='false')\n",
    "\n",
    "\ttweets = [tweet._json for tweet in new_tweets]\n",
    "\twith open('data_tweet.json', 'w', encoding='utf8') as outfile:\n",
    "\t\tjson.dump(tweets, outfile)\n",
    "\treturn"
   ]
  },
  {
   "cell_type": "code",
   "execution_count": 50,
   "metadata": {},
   "outputs": [],
   "source": [
    "#pass in the username of the account you want to download\n",
    "get_all_tweets(\"midasIIITD\")"
   ]
  },
  {
   "cell_type": "code",
   "execution_count": 51,
   "metadata": {},
   "outputs": [],
   "source": [
    "df = pd.read_json(\"data_tweet.json\")"
   ]
  },
  {
   "cell_type": "code",
   "execution_count": 52,
   "metadata": {},
   "outputs": [],
   "source": [
    "y=[]\n",
    "#for x in df[\"extended_entities\"]:\n",
    "    #y.append(x.is_empty)\n",
    "#type(str(df[\"extended_entities\"][0]))\n",
    "for i in range(len(df)):\n",
    "    if(type(df[\"extended_entities\"][i]) == float):\n",
    "        y.append(\"NONE\")\n",
    "    else:\n",
    "        temp = df[\"extended_entities\"][i]\n",
    "        y.append(len(temp[\"media\"]))\n",
    "        \n",
    "df[\"Image Count\"]=y"
   ]
  },
  {
   "cell_type": "code",
   "execution_count": 53,
   "metadata": {},
   "outputs": [],
   "source": [
    "df_answer=df[['created_at','text','favorite_count','retweet_count',\"Image Count\"]]\n",
    "df_answer.to_csv(\"TwitterSoln.csv\")"
   ]
  },
  {
   "cell_type": "code",
   "execution_count": 54,
   "metadata": {},
   "outputs": [
    {
     "data": {
      "text/html": [
       "<div>\n",
       "<style scoped>\n",
       "    .dataframe tbody tr th:only-of-type {\n",
       "        vertical-align: middle;\n",
       "    }\n",
       "\n",
       "    .dataframe tbody tr th {\n",
       "        vertical-align: top;\n",
       "    }\n",
       "\n",
       "    .dataframe thead th {\n",
       "        text-align: right;\n",
       "    }\n",
       "</style>\n",
       "<table border=\"1\" class=\"dataframe\">\n",
       "  <thead>\n",
       "    <tr style=\"text-align: right;\">\n",
       "      <th></th>\n",
       "      <th>created_at</th>\n",
       "      <th>text</th>\n",
       "      <th>favorite_count</th>\n",
       "      <th>retweet_count</th>\n",
       "      <th>Image Count</th>\n",
       "    </tr>\n",
       "  </thead>\n",
       "  <tbody>\n",
       "    <tr>\n",
       "      <th>0</th>\n",
       "      <td>2019-04-11 02:44:50</td>\n",
       "      <td>@rahulkanojia98 Before 14 April.</td>\n",
       "      <td>0</td>\n",
       "      <td>0</td>\n",
       "      <td>NONE</td>\n",
       "    </tr>\n",
       "    <tr>\n",
       "      <th>1</th>\n",
       "      <td>2019-04-10 19:31:59</td>\n",
       "      <td>Considering several requests to extend the dea...</td>\n",
       "      <td>0</td>\n",
       "      <td>0</td>\n",
       "      <td>NONE</td>\n",
       "    </tr>\n",
       "    <tr>\n",
       "      <th>2</th>\n",
       "      <td>2019-04-10 18:33:18</td>\n",
       "      <td>We will close the submission portal in 15 min....</td>\n",
       "      <td>0</td>\n",
       "      <td>0</td>\n",
       "      <td>NONE</td>\n",
       "    </tr>\n",
       "    <tr>\n",
       "      <th>3</th>\n",
       "      <td>2019-04-10 18:00:48</td>\n",
       "      <td>RT @RatnRajiv: @midasIIITD @IIITDelhi @Hitkul_...</td>\n",
       "      <td>0</td>\n",
       "      <td>2</td>\n",
       "      <td>NONE</td>\n",
       "    </tr>\n",
       "    <tr>\n",
       "      <th>4</th>\n",
       "      <td>2019-04-10 17:05:53</td>\n",
       "      <td>@midasIIITD lab is looking for motivated MTech...</td>\n",
       "      <td>4</td>\n",
       "      <td>3</td>\n",
       "      <td>NONE</td>\n",
       "    </tr>\n",
       "  </tbody>\n",
       "</table>\n",
       "</div>"
      ],
      "text/plain": [
       "           created_at                                               text  \\\n",
       "0 2019-04-11 02:44:50                   @rahulkanojia98 Before 14 April.   \n",
       "1 2019-04-10 19:31:59  Considering several requests to extend the dea...   \n",
       "2 2019-04-10 18:33:18  We will close the submission portal in 15 min....   \n",
       "3 2019-04-10 18:00:48  RT @RatnRajiv: @midasIIITD @IIITDelhi @Hitkul_...   \n",
       "4 2019-04-10 17:05:53  @midasIIITD lab is looking for motivated MTech...   \n",
       "\n",
       "   favorite_count  retweet_count Image Count  \n",
       "0               0              0        NONE  \n",
       "1               0              0        NONE  \n",
       "2               0              0        NONE  \n",
       "3               0              2        NONE  \n",
       "4               4              3        NONE  "
      ]
     },
     "execution_count": 54,
     "metadata": {},
     "output_type": "execute_result"
    }
   ],
   "source": [
    "df_answer.head()"
   ]
  }
 ],
 "metadata": {
  "kernelspec": {
   "display_name": "Python 3",
   "language": "python",
   "name": "python3"
  },
  "language_info": {
   "codemirror_mode": {
    "name": "ipython",
    "version": 3
   },
   "file_extension": ".py",
   "mimetype": "text/x-python",
   "name": "python",
   "nbconvert_exporter": "python",
   "pygments_lexer": "ipython3",
   "version": "3.6.7"
  }
 },
 "nbformat": 4,
 "nbformat_minor": 2
}
