{
 "cells": [
  {
   "cell_type": "markdown",
   "metadata": {},
   "source": [
    "**Importing the necessary modules**"
   ]
  },
  {
   "cell_type": "code",
   "execution_count": 215,
   "metadata": {},
   "outputs": [],
   "source": [
    "import nltk\n",
    "import csv\n",
    "import re\n",
    "from nltk.tokenize import word_tokenize, sent_tokenize\n",
    "import pandas as pd\n",
    "from nltk.corpus import stopwords \n",
    "import seaborn as sns\n",
    "%matplotlib inline"
   ]
  },
  {
   "cell_type": "markdown",
   "metadata": {},
   "source": [
    "**File Name of the input and output files**"
   ]
  },
  {
   "cell_type": "code",
   "execution_count": 216,
   "metadata": {},
   "outputs": [],
   "source": [
    "data_path = \"SubtaskA_EvaluationData.csv\"\n",
    "out_path = \"bhuvnesh_gupta.csv\""
   ]
  },
  {
   "cell_type": "markdown",
   "metadata": {},
   "source": [
    "**Steps Performed**\n",
    "1. Read the csv\n",
    "2. Classifing the sentences and predictind the labels based\n",
    "3. Write into csv"
   ]
  },
  {
   "cell_type": "code",
   "execution_count": 217,
   "metadata": {},
   "outputs": [],
   "source": [
    "def classify(sent_list):\n",
    "    \n",
    "    keywords = [\"suggest\",\"recommend\",\"hopefully\",\"go for\",\"request\",\"it would be nice\",\"adding\",\"should come with\",\"should be able\",\"could come with\", \"i need\" , \"we need\",\"needs\", \"would like to\",\"would love to\",\"allow\",\"add\"]\n",
    "\n",
    "    # Goldberg et al.\n",
    "    pattern_strings = [r'.*would\\slike.*if.*', r'.*i\\swish.*', r'.*i\\shope.*', r'.*i\\swant.*', r'.*hopefully.*',\n",
    "                       r\".*if\\sonly.*\", r\".*would\\sbe\\sbetter\\sif.*\", r\".*should.*\", r\".*would\\sthat.*\",\n",
    "                       r\".*can't\\sbelieve.*didn't.*\", r\".*don't\\sbelieve.*didn't.*\", r\".*do\\swant.*\", r\".*i\\scan\\shas.*\"]\n",
    "    compiled_patterns = []\n",
    "    for patt in pattern_strings:\n",
    "        compiled_patterns.append(re.compile(patt))\n",
    "\n",
    "\n",
    "    label_list = []\n",
    "    for sent in sent_list:\n",
    "        tokenized_sent = word_tokenize(sent[1])\n",
    "        tagged_sent = nltk.pos_tag(tokenized_sent)\n",
    "        tags = [i[1] for i in tagged_sent]\n",
    "        label = 0\n",
    "        patt_matched = False\n",
    "        for compiled_patt in compiled_patterns:\n",
    "            joined_sent = \" \".join(tokenized_sent)\n",
    "            matches = compiled_patt.findall(joined_sent)\n",
    "            if len(matches) > 0:\n",
    "                patt_matched = True\n",
    "        keyword_match = any(elem in keywords for elem in tokenized_sent)\n",
    "        pos_match = any(elem in ['MD', 'VB'] for elem in tags)\n",
    "        if patt_matched:\n",
    "            label = 1\n",
    "        elif keyword_match == True:\n",
    "                label = 1\n",
    "        elif pos_match == True:\n",
    "                label = 1    \n",
    "        label_list.append(label)\n",
    "    return label_list\n",
    "\n",
    "#This reads CSV a given CSV and stores the data in a list\n",
    "def read_csv(data_path):\n",
    "    file_reader = csv.reader(open(data_path,\"rt\", errors=\"ignore\",encoding=\"utf-8\"), delimiter=',')\n",
    "    sent_list = []\n",
    "\n",
    "    for row in file_reader:\n",
    "        id = row[0]\n",
    "        sent = row[1]\n",
    "        sent_list.append((id,sent))\n",
    "    return sent_list\n",
    "\n",
    "#This will create and write into a new CSV\n",
    "def write_csv(sent_list, label_list, out_path):\n",
    "        filewriter = csv.writer(open(out_path, \"w\",encoding=\"utf-8\"))\n",
    "        filewriter.writerow([\"id\",\"Sentence\",\"Prediction\"])\n",
    "        count = 0\n",
    "        data = [[id, sent, label] for ((id, sent), label) in zip(sent_list, label_list)]\n",
    "        filewriter.writerows(data)\n",
    "\n"
   ]
  },
  {
   "cell_type": "code",
   "execution_count": 218,
   "metadata": {},
   "outputs": [
    {
     "data": {
      "text/html": [
       "<div>\n",
       "<style scoped>\n",
       "    .dataframe tbody tr th:only-of-type {\n",
       "        vertical-align: middle;\n",
       "    }\n",
       "\n",
       "    .dataframe tbody tr th {\n",
       "        vertical-align: top;\n",
       "    }\n",
       "\n",
       "    .dataframe thead th {\n",
       "        text-align: right;\n",
       "    }\n",
       "</style>\n",
       "<table border=\"1\" class=\"dataframe\">\n",
       "  <thead>\n",
       "    <tr style=\"text-align: right;\">\n",
       "      <th></th>\n",
       "      <th>id</th>\n",
       "      <th>Sentence</th>\n",
       "      <th>Prediction</th>\n",
       "    </tr>\n",
       "  </thead>\n",
       "  <tbody>\n",
       "    <tr>\n",
       "      <th>0</th>\n",
       "      <td>9566</td>\n",
       "      <td>This would enable live traffic aware apps.</td>\n",
       "      <td>1</td>\n",
       "    </tr>\n",
       "    <tr>\n",
       "      <th>1</th>\n",
       "      <td>9569</td>\n",
       "      <td>Please try other formatting like bold italics ...</td>\n",
       "      <td>1</td>\n",
       "    </tr>\n",
       "    <tr>\n",
       "      <th>2</th>\n",
       "      <td>9576</td>\n",
       "      <td>Since computers were invented to save time I s...</td>\n",
       "      <td>1</td>\n",
       "    </tr>\n",
       "    <tr>\n",
       "      <th>3</th>\n",
       "      <td>9577</td>\n",
       "      <td>Allow rearranging if the user wants to change ...</td>\n",
       "      <td>1</td>\n",
       "    </tr>\n",
       "    <tr>\n",
       "      <th>4</th>\n",
       "      <td>9579</td>\n",
       "      <td>Add SIMD instructions for better use of ARM NE...</td>\n",
       "      <td>0</td>\n",
       "    </tr>\n",
       "  </tbody>\n",
       "</table>\n",
       "</div>"
      ],
      "text/plain": [
       "     id                                           Sentence  Prediction\n",
       "0  9566         This would enable live traffic aware apps.           1\n",
       "1  9569  Please try other formatting like bold italics ...           1\n",
       "2  9576  Since computers were invented to save time I s...           1\n",
       "3  9577  Allow rearranging if the user wants to change ...           1\n",
       "4  9579  Add SIMD instructions for better use of ARM NE...           0"
      ]
     },
     "execution_count": 218,
     "metadata": {},
     "output_type": "execute_result"
    }
   ],
   "source": [
    "sent_list = read_csv(data_path)\n",
    "label_list = classify(sent_list)\n",
    "write_csv(sent_list, label_list, out_path)\n",
    "df = pd.read_csv(out_path) #Read the predicted data from csv\n",
    "df.head()"
   ]
  },
  {
   "cell_type": "markdown",
   "metadata": {},
   "source": [
    "**Taking the fields which are a suggestion for further analysis** "
   ]
  },
  {
   "cell_type": "code",
   "execution_count": 219,
   "metadata": {},
   "outputs": [],
   "source": [
    "df=df[df[\"Prediction\"]==1] #Selecting the ones which are predicted to be a suggestion"
   ]
  },
  {
   "cell_type": "markdown",
   "metadata": {},
   "source": [
    "**Used Sentiment Intensity Analyser to find out whether the sentence is positive, negative or neutral.\n",
    "The following graph represents the number of positive negative and nuetral words present in the suggestions.**"
   ]
  },
  {
   "cell_type": "code",
   "execution_count": 224,
   "metadata": {},
   "outputs": [
    {
     "data": {
      "text/plain": [
       "<matplotlib.axes._subplots.AxesSubplot at 0x145e6cc0>"
      ]
     },
     "execution_count": 224,
     "metadata": {},
     "output_type": "execute_result"
    },
    {
     "data": {
      "image/png": "[encoded data removed]",
      "text/plain": [
       "<Figure size 432x288 with 1 Axes>"
      ]
     },
     "metadata": {
      "needs_background": "light"
     },
     "output_type": "display_data"
    }
   ],
   "source": [
    "from nltk.sentiment.vader import SentimentIntensityAnalyzer\n",
    "sid=SentimentIntensityAnalyzer()\n",
    "scores=[] #initialising empty list to store polarity scores element-wise\n",
    "for sentence in df.Sentence:\n",
    "    scores.append(sid.polarity_scores(str(sentence)))\n",
    "df[\"polarity\"]=\"neutral\"\n",
    "y=[]\n",
    "for sent in scores:\n",
    "    if sent[\"compound\"] == 0:\n",
    "        y.append(\"neutral\")\n",
    "    elif sent[\"compound\"] > 0:\n",
    "        y.append('positive')\n",
    "    else:\n",
    "        y.append('negative')\n",
    "y\n",
    "df[\"polarity\"]= y\n",
    "x1= df[\"polarity\"].value_counts()\n",
    "x1.plot(kind=\"bar\")"
   ]
  },
  {
   "cell_type": "code",
   "execution_count": 225,
   "metadata": {},
   "outputs": [
    {
     "data": {
      "text/plain": [
       "<matplotlib.axes._subplots.AxesSubplot at 0x5df8f60>"
      ]
     },
     "execution_count": 225,
     "metadata": {},
     "output_type": "execute_result"
    },
    {
     "data": {
      "image/png": "[encoded data removed]",
      "text/plain": [
       "<Figure size 432x288 with 1 Axes>"
      ]
     },
     "metadata": {
      "needs_background": "light"
     },
     "output_type": "display_data"
    }
   ],
   "source": [
    "sns.barplot(x=[\"positive\",\"neutral\",\"negative\"],y=x1)"
   ]
  },
  {
   "cell_type": "markdown",
   "metadata": {},
   "source": [
    "**Tokenizing and filtering the sentences by removing the stop words and special characters from them. To find out the most occuring words in the suggestion** "
   ]
  },
  {
   "cell_type": "code",
   "execution_count": 226,
   "metadata": {},
   "outputs": [],
   "source": [
    "tokenized_sent= [] # initialising tokenized sentence list \n",
    "filtered_sentence =[] # initialising filtered tokenized sentence list \n",
    "stop_words = set(stopwords.words('english')) #Stopwords from nltk.corpus library\n",
    "for sent in df.Sentence:\n",
    "    tokenized_sent+=nltk.word_tokenize(sent)#\n",
    "for word in tokenized_sent: \n",
    "    if word not in stop_words:\n",
    "        if word.isalnum(): # removing special characters\n",
    "            filtered_sentence.append(word)"
   ]
  },
  {
   "cell_type": "code",
   "execution_count": 230,
   "metadata": {},
   "outputs": [
    {
     "data": {
      "text/plain": [
       "I        157\n",
       "app       88\n",
       "would     55\n",
       "like      50\n",
       "apps      49\n",
       "Name: 0, dtype: int64"
      ]
     },
     "execution_count": 230,
     "metadata": {},
     "output_type": "execute_result"
    }
   ],
   "source": [
    "df_tokenized = pd.DataFrame(filtered_sentence)\n",
    "#df_tokenized\n",
    "df3 = df_tokenized[0].value_counts().head() # Getting Top 5 most occuring words \n",
    "df3"
   ]
  },
  {
   "cell_type": "markdown",
   "metadata": {},
   "source": [
    "**The following graph shows the most frequently used words present in the suggestions data set**"
   ]
  },
  {
   "cell_type": "code",
   "execution_count": 231,
   "metadata": {},
   "outputs": [
    {
     "data": {
      "text/plain": [
       "<matplotlib.axes._subplots.AxesSubplot at 0x17b5c8d0>"
      ]
     },
     "execution_count": 231,
     "metadata": {},
     "output_type": "execute_result"
    },
    {
     "data": {
      "image/png": "[encoded data removed]",
      "text/plain": [
       "<Figure size 432x288 with 1 Axes>"
      ]
     },
     "metadata": {
      "needs_background": "light"
     },
     "output_type": "display_data"
    }
   ],
   "source": [
    "df3.plot(kind=\"bar\")"
   ]
  }
 ],
 "metadata": {
  "kernelspec": {
   "display_name": "Python 3",
   "language": "python",
   "name": "python3"
  },
  "language_info": {
   "codemirror_mode": {
    "name": "ipython",
    "version": 3
   },
   "file_extension": ".py",
   "mimetype": "text/x-python",
   "name": "python",
   "nbconvert_exporter": "python",
   "pygments_lexer": "ipython3",
   "version": "3.6.7"
  }
 },
 "nbformat": 4,
 "nbformat_minor": 2
}
